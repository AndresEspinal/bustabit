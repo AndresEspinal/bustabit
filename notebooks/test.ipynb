{
 "cells": [
  {
   "cell_type": "code",
   "execution_count": 1,
   "metadata": {},
   "outputs": [],
   "source": [
    "import pandas as pd\n",
    "from datetime import datetime, time"
   ]
  },
  {
   "cell_type": "code",
   "execution_count": 2,
   "metadata": {},
   "outputs": [],
   "source": [
    "import sys\n",
    "import os\n",
    "sys.path.append(os.path.abspath('../scripts'))"
   ]
  },
  {
   "cell_type": "code",
   "execution_count": 3,
   "metadata": {},
   "outputs": [],
   "source": [
    "from cambio_formato_fecha import DateFormat"
   ]
  },
  {
   "cell_type": "code",
   "execution_count": 3,
   "metadata": {},
   "outputs": [],
   "source": [
    "\n",
    "from free import DataFrameModifier"
   ]
  },
  {
   "cell_type": "code",
   "execution_count": 4,
   "metadata": {},
   "outputs": [],
   "source": [
    "betdataset = pd.read_csv('../data/raw/bustabit.csv')"
   ]
  },
  {
   "cell_type": "code",
   "execution_count": 5,
   "metadata": {},
   "outputs": [
    {
     "name": "stdout",
     "output_type": "stream",
     "text": [
      "<class 'pandas.core.frame.DataFrame'>\n",
      "RangeIndex: 50000 entries, 0 to 49999\n",
      "Data columns (total 9 columns):\n",
      " #   Column     Non-Null Count  Dtype  \n",
      "---  ------     --------------  -----  \n",
      " 0   Id         50000 non-null  int64  \n",
      " 1   GameID     50000 non-null  int64  \n",
      " 2   Username   50000 non-null  object \n",
      " 3   Bet        50000 non-null  int64  \n",
      " 4   CashedOut  28734 non-null  float64\n",
      " 5   Bonus      28734 non-null  float64\n",
      " 6   Profit     28734 non-null  float64\n",
      " 7   BustedAt   50000 non-null  float64\n",
      " 8   PlayDate   50000 non-null  object \n",
      "dtypes: float64(4), int64(3), object(2)\n",
      "memory usage: 3.4+ MB\n"
     ]
    }
   ],
   "source": [
    "betdataset.info()"
   ]
  },
  {
   "cell_type": "code",
   "execution_count": 6,
   "metadata": {},
   "outputs": [],
   "source": [
    "modifier = DataFrameModifier(betdataset, 'PlayDate')\n",
    "modified_df = modifier.modify_dataframe()\n"
   ]
  },
  {
   "cell_type": "code",
   "execution_count": 7,
   "metadata": {},
   "outputs": [
    {
     "data": {
      "text/html": [
       "<div>\n",
       "<style scoped>\n",
       "    .dataframe tbody tr th:only-of-type {\n",
       "        vertical-align: middle;\n",
       "    }\n",
       "\n",
       "    .dataframe tbody tr th {\n",
       "        vertical-align: top;\n",
       "    }\n",
       "\n",
       "    .dataframe thead th {\n",
       "        text-align: right;\n",
       "    }\n",
       "</style>\n",
       "<table border=\"1\" class=\"dataframe\">\n",
       "  <thead>\n",
       "    <tr style=\"text-align: right;\">\n",
       "      <th></th>\n",
       "      <th>Id</th>\n",
       "      <th>GameID</th>\n",
       "      <th>Username</th>\n",
       "      <th>Bet</th>\n",
       "      <th>CashedOut</th>\n",
       "      <th>Bonus</th>\n",
       "      <th>Profit</th>\n",
       "      <th>BustedAt</th>\n",
       "      <th>PlayDate</th>\n",
       "      <th>year</th>\n",
       "      <th>month</th>\n",
       "    </tr>\n",
       "  </thead>\n",
       "  <tbody>\n",
       "    <tr>\n",
       "      <th>0</th>\n",
       "      <td>14196549</td>\n",
       "      <td>3366002</td>\n",
       "      <td>papai</td>\n",
       "      <td>5</td>\n",
       "      <td>1.20</td>\n",
       "      <td>0.0</td>\n",
       "      <td>1.00</td>\n",
       "      <td>8.24</td>\n",
       "      <td>2016-11-20 19:44:19+00:00</td>\n",
       "      <td>2016</td>\n",
       "      <td>11</td>\n",
       "    </tr>\n",
       "    <tr>\n",
       "      <th>1</th>\n",
       "      <td>10676217</td>\n",
       "      <td>3343882</td>\n",
       "      <td>znay22</td>\n",
       "      <td>3</td>\n",
       "      <td>NaN</td>\n",
       "      <td>NaN</td>\n",
       "      <td>NaN</td>\n",
       "      <td>1.40</td>\n",
       "      <td>2016-11-14 14:21:50+00:00</td>\n",
       "      <td>2016</td>\n",
       "      <td>11</td>\n",
       "    </tr>\n",
       "    <tr>\n",
       "      <th>2</th>\n",
       "      <td>15577107</td>\n",
       "      <td>3374646</td>\n",
       "      <td>rrrrrrrr</td>\n",
       "      <td>4</td>\n",
       "      <td>1.33</td>\n",
       "      <td>3.0</td>\n",
       "      <td>1.44</td>\n",
       "      <td>3.15</td>\n",
       "      <td>2016-11-23 06:39:15+00:00</td>\n",
       "      <td>2016</td>\n",
       "      <td>11</td>\n",
       "    </tr>\n",
       "    <tr>\n",
       "      <th>3</th>\n",
       "      <td>25732127</td>\n",
       "      <td>3429241</td>\n",
       "      <td>sanya1206</td>\n",
       "      <td>10</td>\n",
       "      <td>NaN</td>\n",
       "      <td>NaN</td>\n",
       "      <td>NaN</td>\n",
       "      <td>1.63</td>\n",
       "      <td>2016-12-08 18:13:55+00:00</td>\n",
       "      <td>2016</td>\n",
       "      <td>12</td>\n",
       "    </tr>\n",
       "    <tr>\n",
       "      <th>4</th>\n",
       "      <td>17995432</td>\n",
       "      <td>3389174</td>\n",
       "      <td>ADM</td>\n",
       "      <td>50</td>\n",
       "      <td>1.50</td>\n",
       "      <td>1.4</td>\n",
       "      <td>25.70</td>\n",
       "      <td>2.29</td>\n",
       "      <td>2016-11-27 08:14:48+00:00</td>\n",
       "      <td>2016</td>\n",
       "      <td>11</td>\n",
       "    </tr>\n",
       "    <tr>\n",
       "      <th>...</th>\n",
       "      <td>...</td>\n",
       "      <td>...</td>\n",
       "      <td>...</td>\n",
       "      <td>...</td>\n",
       "      <td>...</td>\n",
       "      <td>...</td>\n",
       "      <td>...</td>\n",
       "      <td>...</td>\n",
       "      <td>...</td>\n",
       "      <td>...</td>\n",
       "      <td>...</td>\n",
       "    </tr>\n",
       "    <tr>\n",
       "      <th>49995</th>\n",
       "      <td>21345100</td>\n",
       "      <td>3406167</td>\n",
       "      <td>ElenaV</td>\n",
       "      <td>4</td>\n",
       "      <td>NaN</td>\n",
       "      <td>NaN</td>\n",
       "      <td>NaN</td>\n",
       "      <td>4.80</td>\n",
       "      <td>2016-12-02 05:00:57+00:00</td>\n",
       "      <td>2016</td>\n",
       "      <td>12</td>\n",
       "    </tr>\n",
       "    <tr>\n",
       "      <th>49996</th>\n",
       "      <td>1461408</td>\n",
       "      <td>3302415</td>\n",
       "      <td>Sandboxx</td>\n",
       "      <td>3000</td>\n",
       "      <td>1.04</td>\n",
       "      <td>0.0</td>\n",
       "      <td>120.00</td>\n",
       "      <td>5.03</td>\n",
       "      <td>2016-11-02 19:01:58+00:00</td>\n",
       "      <td>2016</td>\n",
       "      <td>11</td>\n",
       "    </tr>\n",
       "    <tr>\n",
       "      <th>49997</th>\n",
       "      <td>19704592</td>\n",
       "      <td>3398419</td>\n",
       "      <td>Ferreck</td>\n",
       "      <td>1</td>\n",
       "      <td>NaN</td>\n",
       "      <td>NaN</td>\n",
       "      <td>NaN</td>\n",
       "      <td>1.06</td>\n",
       "      <td>2016-11-29 23:48:11+00:00</td>\n",
       "      <td>2016</td>\n",
       "      <td>11</td>\n",
       "    </tr>\n",
       "    <tr>\n",
       "      <th>49998</th>\n",
       "      <td>20075463</td>\n",
       "      <td>3400278</td>\n",
       "      <td>ugneri</td>\n",
       "      <td>68</td>\n",
       "      <td>1.33</td>\n",
       "      <td>0.0</td>\n",
       "      <td>22.44</td>\n",
       "      <td>19.00</td>\n",
       "      <td>2016-11-30 12:29:56+00:00</td>\n",
       "      <td>2016</td>\n",
       "      <td>11</td>\n",
       "    </tr>\n",
       "    <tr>\n",
       "      <th>49999</th>\n",
       "      <td>14739654</td>\n",
       "      <td>3369631</td>\n",
       "      <td>ALIEN_SULACO</td>\n",
       "      <td>300</td>\n",
       "      <td>1.30</td>\n",
       "      <td>0.0</td>\n",
       "      <td>90.00</td>\n",
       "      <td>2.38</td>\n",
       "      <td>2016-11-21 20:20:47+00:00</td>\n",
       "      <td>2016</td>\n",
       "      <td>11</td>\n",
       "    </tr>\n",
       "  </tbody>\n",
       "</table>\n",
       "<p>50000 rows × 11 columns</p>\n",
       "</div>"
      ],
      "text/plain": [
       "             Id   GameID      Username   Bet  CashedOut  Bonus  Profit  \\\n",
       "0      14196549  3366002         papai     5       1.20    0.0    1.00   \n",
       "1      10676217  3343882        znay22     3        NaN    NaN     NaN   \n",
       "2      15577107  3374646      rrrrrrrr     4       1.33    3.0    1.44   \n",
       "3      25732127  3429241     sanya1206    10        NaN    NaN     NaN   \n",
       "4      17995432  3389174           ADM    50       1.50    1.4   25.70   \n",
       "...         ...      ...           ...   ...        ...    ...     ...   \n",
       "49995  21345100  3406167        ElenaV     4        NaN    NaN     NaN   \n",
       "49996   1461408  3302415      Sandboxx  3000       1.04    0.0  120.00   \n",
       "49997  19704592  3398419       Ferreck     1        NaN    NaN     NaN   \n",
       "49998  20075463  3400278        ugneri    68       1.33    0.0   22.44   \n",
       "49999  14739654  3369631  ALIEN_SULACO   300       1.30    0.0   90.00   \n",
       "\n",
       "       BustedAt                  PlayDate  year  month  \n",
       "0          8.24 2016-11-20 19:44:19+00:00  2016     11  \n",
       "1          1.40 2016-11-14 14:21:50+00:00  2016     11  \n",
       "2          3.15 2016-11-23 06:39:15+00:00  2016     11  \n",
       "3          1.63 2016-12-08 18:13:55+00:00  2016     12  \n",
       "4          2.29 2016-11-27 08:14:48+00:00  2016     11  \n",
       "...         ...                       ...   ...    ...  \n",
       "49995      4.80 2016-12-02 05:00:57+00:00  2016     12  \n",
       "49996      5.03 2016-11-02 19:01:58+00:00  2016     11  \n",
       "49997      1.06 2016-11-29 23:48:11+00:00  2016     11  \n",
       "49998     19.00 2016-11-30 12:29:56+00:00  2016     11  \n",
       "49999      2.38 2016-11-21 20:20:47+00:00  2016     11  \n",
       "\n",
       "[50000 rows x 11 columns]"
      ]
     },
     "execution_count": 7,
     "metadata": {},
     "output_type": "execute_result"
    }
   ],
   "source": [
    "modified_df"
   ]
  },
  {
   "cell_type": "code",
   "execution_count": 8,
   "metadata": {},
   "outputs": [],
   "source": [
    "data=DateFormat('PlayDate', betdataset)"
   ]
  },
  {
   "cell_type": "code",
   "execution_count": 9,
   "metadata": {},
   "outputs": [],
   "source": [
    "data_df=data.fecha()"
   ]
  },
  {
   "cell_type": "code",
   "execution_count": 10,
   "metadata": {},
   "outputs": [
    {
     "data": {
      "text/plain": [
       "'PlayDate'"
      ]
     },
     "execution_count": 10,
     "metadata": {},
     "output_type": "execute_result"
    }
   ],
   "source": [
    "data_df"
   ]
  },
  {
   "cell_type": "code",
   "execution_count": 11,
   "metadata": {},
   "outputs": [
    {
     "name": "stdout",
     "output_type": "stream",
     "text": [
      "<class 'pandas.core.frame.DataFrame'>\n",
      "RangeIndex: 50000 entries, 0 to 49999\n",
      "Data columns (total 9 columns):\n",
      " #   Column     Non-Null Count  Dtype              \n",
      "---  ------     --------------  -----              \n",
      " 0   Id         50000 non-null  int64              \n",
      " 1   GameID     50000 non-null  int64              \n",
      " 2   Username   50000 non-null  object             \n",
      " 3   Bet        50000 non-null  int64              \n",
      " 4   CashedOut  28734 non-null  float64            \n",
      " 5   Bonus      28734 non-null  float64            \n",
      " 6   Profit     28734 non-null  float64            \n",
      " 7   BustedAt   50000 non-null  float64            \n",
      " 8   PlayDate   50000 non-null  datetime64[ns, UTC]\n",
      "dtypes: datetime64[ns, UTC](1), float64(4), int64(3), object(1)\n",
      "memory usage: 3.4+ MB\n"
     ]
    }
   ],
   "source": [
    "betdataset.info()"
   ]
  }
 ],
 "metadata": {
  "kernelspec": {
   "display_name": "Python 3",
   "language": "python",
   "name": "python3"
  },
  "language_info": {
   "codemirror_mode": {
    "name": "ipython",
    "version": 3
   },
   "file_extension": ".py",
   "mimetype": "text/x-python",
   "name": "python",
   "nbconvert_exporter": "python",
   "pygments_lexer": "ipython3",
   "version": "3.11.1"
  }
 },
 "nbformat": 4,
 "nbformat_minor": 2
}
