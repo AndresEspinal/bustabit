{
  "cells": [
    {
      "cell_type": "markdown",
      "metadata": {
        "id": "u4KXWk9qM0pb"
      },
      "source": [
        "## Abrir desde colab, drive y kaggle"
      ]
    },
    {
      "cell_type": "code",
      "execution_count": 1,
      "metadata": {
        "colab": {
          "base_uri": "https://localhost:8080/"
        },
        "id": "aUMDerEnovn5",
        "outputId": "3909dc9f-8280-43d0-9f9f-e71febd8dba8"
      },
      "outputs": [
        {
          "name": "stdout",
          "output_type": "stream",
          "text": [
            "Mounted at /content/drive/\n"
          ]
        }
      ],
      "source": [
        "from google.colab import drive\n",
        "import os\n",
        "drive.mount('/content/drive/')"
      ]
    },
    {
      "cell_type": "code",
      "execution_count": 2,
      "metadata": {
        "colab": {
          "base_uri": "https://localhost:8080/"
        },
        "id": "1k400Gjdo0SW",
        "outputId": "4c40cecc-c8c5-4b63-b5b1-fcc6792b487f"
      },
      "outputs": [
        {
          "name": "stdout",
          "output_type": "stream",
          "text": [
            "Input the directory with your Kaggle json file: \n",
            "Dataset URL: https://www.kaggle.com/datasets/kingabzpro/gambling-behavior-bustabit\n",
            "License(s): GPL-2.0\n",
            "Downloading gambling-behavior-bustabit.zip to /content\n",
            "  0% 0.00/1.30M [00:00<?, ?B/s]\n",
            "100% 1.30M/1.30M [00:00<00:00, 87.6MB/s]\n",
            "Archive:  gambling-behavior-bustabit.zip\n",
            "  inflating: bustabit.csv            \n"
          ]
        }
      ],
      "source": [
        "os.environ['KAGGLE_CONFIG_DIR'] = '/content/drive/MyDrive/' + input('Input the directory with your Kaggle json file: ') # Dejar input vacío en caso de que el archivo se encuentre en la raíz de Drive\n",
        "! kaggle datasets download -d kingabzpro/gambling-behavior-bustabit  # Descarga del archivo comprimido\n",
        "!unzip \\*.zip && rm *.zip # Descomprensión y eliminación de cualquier archivo .zip"
      ]
    },
    {
      "cell_type": "markdown",
      "metadata": {},
      "source": [
        "## Instalacion de librerias"
      ]
    },
    {
      "cell_type": "code",
      "execution_count": 6,
      "metadata": {
        "colab": {
          "base_uri": "https://localhost:8080/"
        },
        "id": "3nE5f-kio2xp",
        "outputId": "388e8729-ca02-4c55-a416-c9aacb5a44b5"
      },
      "outputs": [
        {
          "name": "stdout",
          "output_type": "stream",
          "text": [
            "Collecting pandas\n",
            "  Downloading pandas-2.2.2-cp311-cp311-win_amd64.whl (11.6 MB)\n",
            "     ---------------------------------------- 11.6/11.6 MB 1.5 MB/s eta 0:00:00\n",
            "Collecting numpy>=1.23.2\n",
            "  Downloading numpy-2.0.0-cp311-cp311-win_amd64.whl (16.5 MB)\n",
            "     ---------------------------------------- 16.5/16.5 MB 1.6 MB/s eta 0:00:00\n",
            "Requirement already satisfied: python-dateutil>=2.8.2 in c:\\users\\andre\\appdata\\local\\programs\\python\\python311\\lib\\site-packages (from pandas) (2.9.0.post0)\n",
            "Collecting pytz>=2020.1\n",
            "  Downloading pytz-2024.1-py2.py3-none-any.whl (505 kB)\n",
            "     -------------------------------------- 505.5/505.5 kB 1.7 MB/s eta 0:00:00\n",
            "Collecting tzdata>=2022.7\n",
            "  Downloading tzdata-2024.1-py2.py3-none-any.whl (345 kB)\n",
            "     -------------------------------------- 345.4/345.4 kB 1.5 MB/s eta 0:00:00\n",
            "Requirement already satisfied: six>=1.5 in c:\\users\\andre\\appdata\\local\\programs\\python\\python311\\lib\\site-packages (from python-dateutil>=2.8.2->pandas) (1.16.0)\n",
            "Installing collected packages: pytz, tzdata, numpy, pandas\n",
            "Successfully installed numpy-2.0.0 pandas-2.2.2 pytz-2024.1 tzdata-2024.1\n"
          ]
        },
        {
          "name": "stderr",
          "output_type": "stream",
          "text": [
            "\n",
            "[notice] A new release of pip available: 22.3.1 -> 24.1\n",
            "[notice] To update, run: python.exe -m pip install --upgrade pip\n"
          ]
        },
        {
          "name": "stdout",
          "output_type": "stream",
          "text": [
            "Requirement already satisfied: numpy in c:\\users\\andre\\appdata\\local\\programs\\python\\python311\\lib\\site-packages (2.0.0)\n"
          ]
        },
        {
          "name": "stderr",
          "output_type": "stream",
          "text": [
            "\n",
            "[notice] A new release of pip available: 22.3.1 -> 24.1\n",
            "[notice] To update, run: python.exe -m pip install --upgrade pip\n"
          ]
        },
        {
          "name": "stdout",
          "output_type": "stream",
          "text": [
            "Collecting seaborn\n",
            "  Downloading seaborn-0.13.2-py3-none-any.whl (294 kB)\n",
            "     -------------------------------------- 294.9/294.9 kB 1.4 MB/s eta 0:00:00\n",
            "Requirement already satisfied: numpy!=1.24.0,>=1.20 in c:\\users\\andre\\appdata\\local\\programs\\python\\python311\\lib\\site-packages (from seaborn) (2.0.0)\n",
            "Requirement already satisfied: pandas>=1.2 in c:\\users\\andre\\appdata\\local\\programs\\python\\python311\\lib\\site-packages (from seaborn) (2.2.2)\n",
            "Collecting matplotlib!=3.6.1,>=3.4\n",
            "  Downloading matplotlib-3.9.0-cp311-cp311-win_amd64.whl (8.0 MB)\n",
            "     ---------------------------------------- 8.0/8.0 MB 1.6 MB/s eta 0:00:00\n",
            "Collecting contourpy>=1.0.1\n",
            "  Downloading contourpy-1.2.1-cp311-cp311-win_amd64.whl (188 kB)\n",
            "     -------------------------------------- 188.2/188.2 kB 1.6 MB/s eta 0:00:00\n",
            "Collecting cycler>=0.10\n",
            "  Downloading cycler-0.12.1-py3-none-any.whl (8.3 kB)\n",
            "Collecting fonttools>=4.22.0\n",
            "  Downloading fonttools-4.53.0-cp311-cp311-win_amd64.whl (2.2 MB)\n",
            "     ---------------------------------------- 2.2/2.2 MB 1.7 MB/s eta 0:00:00\n",
            "Collecting kiwisolver>=1.3.1\n",
            "  Downloading kiwisolver-1.4.5-cp311-cp311-win_amd64.whl (56 kB)\n",
            "     ---------------------------------------- 56.1/56.1 kB 1.5 MB/s eta 0:00:00\n",
            "Requirement already satisfied: packaging>=20.0 in c:\\users\\andre\\appdata\\roaming\\python\\python311\\site-packages (from matplotlib!=3.6.1,>=3.4->seaborn) (24.1)\n",
            "Collecting pillow>=8\n",
            "  Downloading pillow-10.3.0-cp311-cp311-win_amd64.whl (2.5 MB)\n",
            "     ---------------------------------------- 2.5/2.5 MB 1.4 MB/s eta 0:00:00\n",
            "Collecting pyparsing>=2.3.1\n",
            "  Downloading pyparsing-3.1.2-py3-none-any.whl (103 kB)\n",
            "     -------------------------------------- 103.2/103.2 kB 1.5 MB/s eta 0:00:00\n",
            "Requirement already satisfied: python-dateutil>=2.7 in c:\\users\\andre\\appdata\\local\\programs\\python\\python311\\lib\\site-packages (from matplotlib!=3.6.1,>=3.4->seaborn) (2.9.0.post0)\n",
            "Requirement already satisfied: pytz>=2020.1 in c:\\users\\andre\\appdata\\local\\programs\\python\\python311\\lib\\site-packages (from pandas>=1.2->seaborn) (2024.1)\n",
            "Requirement already satisfied: tzdata>=2022.7 in c:\\users\\andre\\appdata\\local\\programs\\python\\python311\\lib\\site-packages (from pandas>=1.2->seaborn) (2024.1)\n",
            "Requirement already satisfied: six>=1.5 in c:\\users\\andre\\appdata\\local\\programs\\python\\python311\\lib\\site-packages (from python-dateutil>=2.7->matplotlib!=3.6.1,>=3.4->seaborn) (1.16.0)\n",
            "Installing collected packages: pyparsing, pillow, kiwisolver, fonttools, cycler, contourpy, matplotlib, seaborn\n",
            "Successfully installed contourpy-1.2.1 cycler-0.12.1 fonttools-4.53.0 kiwisolver-1.4.5 matplotlib-3.9.0 pillow-10.3.0 pyparsing-3.1.2 seaborn-0.13.2\n"
          ]
        },
        {
          "name": "stderr",
          "output_type": "stream",
          "text": [
            "\n",
            "[notice] A new release of pip available: 22.3.1 -> 24.1\n",
            "[notice] To update, run: python.exe -m pip install --upgrade pip\n"
          ]
        },
        {
          "name": "stdout",
          "output_type": "stream",
          "text": [
            "Requirement already satisfied: matplotlib in c:\\users\\andre\\appdata\\local\\programs\\python\\python311\\lib\\site-packages (3.9.0)\n",
            "Requirement already satisfied: contourpy>=1.0.1 in c:\\users\\andre\\appdata\\local\\programs\\python\\python311\\lib\\site-packages (from matplotlib) (1.2.1)\n",
            "Requirement already satisfied: cycler>=0.10 in c:\\users\\andre\\appdata\\local\\programs\\python\\python311\\lib\\site-packages (from matplotlib) (0.12.1)\n",
            "Requirement already satisfied: fonttools>=4.22.0 in c:\\users\\andre\\appdata\\local\\programs\\python\\python311\\lib\\site-packages (from matplotlib) (4.53.0)\n",
            "Requirement already satisfied: kiwisolver>=1.3.1 in c:\\users\\andre\\appdata\\local\\programs\\python\\python311\\lib\\site-packages (from matplotlib) (1.4.5)\n",
            "Requirement already satisfied: numpy>=1.23 in c:\\users\\andre\\appdata\\local\\programs\\python\\python311\\lib\\site-packages (from matplotlib) (2.0.0)\n",
            "Requirement already satisfied: packaging>=20.0 in c:\\users\\andre\\appdata\\roaming\\python\\python311\\site-packages (from matplotlib) (24.1)\n",
            "Requirement already satisfied: pillow>=8 in c:\\users\\andre\\appdata\\local\\programs\\python\\python311\\lib\\site-packages (from matplotlib) (10.3.0)\n",
            "Requirement already satisfied: pyparsing>=2.3.1 in c:\\users\\andre\\appdata\\local\\programs\\python\\python311\\lib\\site-packages (from matplotlib) (3.1.2)\n",
            "Requirement already satisfied: python-dateutil>=2.7 in c:\\users\\andre\\appdata\\local\\programs\\python\\python311\\lib\\site-packages (from matplotlib) (2.9.0.post0)\n",
            "Requirement already satisfied: six>=1.5 in c:\\users\\andre\\appdata\\local\\programs\\python\\python311\\lib\\site-packages (from python-dateutil>=2.7->matplotlib) (1.16.0)\n"
          ]
        },
        {
          "name": "stderr",
          "output_type": "stream",
          "text": [
            "\n",
            "[notice] A new release of pip available: 22.3.1 -> 24.1\n",
            "[notice] To update, run: python.exe -m pip install --upgrade pip\n"
          ]
        },
        {
          "name": "stdout",
          "output_type": "stream",
          "text": [
            "Collecting scikit-learn\n",
            "  Downloading scikit_learn-1.5.0-cp311-cp311-win_amd64.whl (11.0 MB)\n",
            "     ---------------------------------------- 11.0/11.0 MB 1.6 MB/s eta 0:00:00\n",
            "Requirement already satisfied: numpy>=1.19.5 in c:\\users\\andre\\appdata\\local\\programs\\python\\python311\\lib\\site-packages (from scikit-learn) (2.0.0)\n",
            "Collecting scipy>=1.6.0\n",
            "  Downloading scipy-1.13.1-cp311-cp311-win_amd64.whl (46.2 MB)\n",
            "     ---------------------------------------- 46.2/46.2 MB 1.5 MB/s eta 0:00:00\n",
            "Collecting joblib>=1.2.0\n",
            "  Downloading joblib-1.4.2-py3-none-any.whl (301 kB)\n",
            "     -------------------------------------- 301.8/301.8 kB 1.7 MB/s eta 0:00:00\n",
            "Collecting threadpoolctl>=3.1.0\n",
            "  Downloading threadpoolctl-3.5.0-py3-none-any.whl (18 kB)\n",
            "Installing collected packages: threadpoolctl, scipy, joblib, scikit-learn\n",
            "Successfully installed joblib-1.4.2 scikit-learn-1.5.0 scipy-1.13.1 threadpoolctl-3.5.0\n"
          ]
        },
        {
          "name": "stderr",
          "output_type": "stream",
          "text": [
            "\n",
            "[notice] A new release of pip available: 22.3.1 -> 24.1\n",
            "[notice] To update, run: python.exe -m pip install --upgrade pip\n"
          ]
        },
        {
          "name": "stdout",
          "output_type": "stream",
          "text": [
            "Requirement already satisfied: scipy in c:\\users\\andre\\appdata\\local\\programs\\python\\python311\\lib\\site-packages (1.13.1)\n",
            "Requirement already satisfied: numpy<2.3,>=1.22.4 in c:\\users\\andre\\appdata\\local\\programs\\python\\python311\\lib\\site-packages (from scipy) (2.0.0)\n"
          ]
        },
        {
          "name": "stderr",
          "output_type": "stream",
          "text": [
            "\n",
            "[notice] A new release of pip available: 22.3.1 -> 24.1\n",
            "[notice] To update, run: python.exe -m pip install --upgrade pip\n"
          ]
        },
        {
          "name": "stdout",
          "output_type": "stream",
          "text": [
            "Collecting statsmodels\n",
            "  Downloading statsmodels-0.14.2-cp311-cp311-win_amd64.whl (9.9 MB)\n",
            "     ---------------------------------------- 9.9/9.9 MB 1.6 MB/s eta 0:00:00\n",
            "Requirement already satisfied: numpy>=1.22.3 in c:\\users\\andre\\appdata\\local\\programs\\python\\python311\\lib\\site-packages (from statsmodels) (2.0.0)\n",
            "Requirement already satisfied: scipy!=1.9.2,>=1.8 in c:\\users\\andre\\appdata\\local\\programs\\python\\python311\\lib\\site-packages (from statsmodels) (1.13.1)\n",
            "Requirement already satisfied: pandas!=2.1.0,>=1.4 in c:\\users\\andre\\appdata\\local\\programs\\python\\python311\\lib\\site-packages (from statsmodels) (2.2.2)\n",
            "Collecting patsy>=0.5.6\n",
            "  Downloading patsy-0.5.6-py2.py3-none-any.whl (233 kB)\n",
            "     -------------------------------------- 233.9/233.9 kB 1.6 MB/s eta 0:00:00\n",
            "Requirement already satisfied: packaging>=21.3 in c:\\users\\andre\\appdata\\roaming\\python\\python311\\site-packages (from statsmodels) (24.1)\n",
            "Requirement already satisfied: python-dateutil>=2.8.2 in c:\\users\\andre\\appdata\\local\\programs\\python\\python311\\lib\\site-packages (from pandas!=2.1.0,>=1.4->statsmodels) (2.9.0.post0)\n",
            "Requirement already satisfied: pytz>=2020.1 in c:\\users\\andre\\appdata\\local\\programs\\python\\python311\\lib\\site-packages (from pandas!=2.1.0,>=1.4->statsmodels) (2024.1)\n",
            "Requirement already satisfied: tzdata>=2022.7 in c:\\users\\andre\\appdata\\local\\programs\\python\\python311\\lib\\site-packages (from pandas!=2.1.0,>=1.4->statsmodels) (2024.1)\n",
            "Requirement already satisfied: six in c:\\users\\andre\\appdata\\local\\programs\\python\\python311\\lib\\site-packages (from patsy>=0.5.6->statsmodels) (1.16.0)\n",
            "Installing collected packages: patsy, statsmodels\n",
            "Successfully installed patsy-0.5.6 statsmodels-0.14.2\n"
          ]
        },
        {
          "name": "stderr",
          "output_type": "stream",
          "text": [
            "\n",
            "[notice] A new release of pip available: 22.3.1 -> 24.1\n",
            "[notice] To update, run: python.exe -m pip install --upgrade pip\n"
          ]
        },
        {
          "name": "stdout",
          "output_type": "stream",
          "text": [
            "Collecting imbalanced-learn\n",
            "  Downloading imbalanced_learn-0.12.3-py3-none-any.whl (258 kB)\n",
            "     -------------------------------------- 258.3/258.3 kB 1.4 MB/s eta 0:00:00\n",
            "Requirement already satisfied: numpy>=1.17.3 in c:\\users\\andre\\appdata\\local\\programs\\python\\python311\\lib\\site-packages (from imbalanced-learn) (2.0.0)\n",
            "Requirement already satisfied: scipy>=1.5.0 in c:\\users\\andre\\appdata\\local\\programs\\python\\python311\\lib\\site-packages (from imbalanced-learn) (1.13.1)\n",
            "Requirement already satisfied: scikit-learn>=1.0.2 in c:\\users\\andre\\appdata\\local\\programs\\python\\python311\\lib\\site-packages (from imbalanced-learn) (1.5.0)\n",
            "Requirement already satisfied: joblib>=1.1.1 in c:\\users\\andre\\appdata\\local\\programs\\python\\python311\\lib\\site-packages (from imbalanced-learn) (1.4.2)\n",
            "Requirement already satisfied: threadpoolctl>=2.0.0 in c:\\users\\andre\\appdata\\local\\programs\\python\\python311\\lib\\site-packages (from imbalanced-learn) (3.5.0)\n",
            "Installing collected packages: imbalanced-learn\n",
            "Successfully installed imbalanced-learn-0.12.3\n"
          ]
        },
        {
          "name": "stderr",
          "output_type": "stream",
          "text": [
            "\n",
            "[notice] A new release of pip available: 22.3.1 -> 24.1\n",
            "[notice] To update, run: python.exe -m pip install --upgrade pip\n"
          ]
        },
        {
          "name": "stdout",
          "output_type": "stream",
          "text": [
            "Collecting scikit-plot\n",
            "  Downloading scikit_plot-0.3.7-py3-none-any.whl (33 kB)\n",
            "Requirement already satisfied: matplotlib>=1.4.0 in c:\\users\\andre\\appdata\\local\\programs\\python\\python311\\lib\\site-packages (from scikit-plot) (3.9.0)\n",
            "Requirement already satisfied: scikit-learn>=0.18 in c:\\users\\andre\\appdata\\local\\programs\\python\\python311\\lib\\site-packages (from scikit-plot) (1.5.0)\n",
            "Requirement already satisfied: scipy>=0.9 in c:\\users\\andre\\appdata\\local\\programs\\python\\python311\\lib\\site-packages (from scikit-plot) (1.13.1)\n",
            "Requirement already satisfied: joblib>=0.10 in c:\\users\\andre\\appdata\\local\\programs\\python\\python311\\lib\\site-packages (from scikit-plot) (1.4.2)\n",
            "Requirement already satisfied: contourpy>=1.0.1 in c:\\users\\andre\\appdata\\local\\programs\\python\\python311\\lib\\site-packages (from matplotlib>=1.4.0->scikit-plot) (1.2.1)\n",
            "Requirement already satisfied: cycler>=0.10 in c:\\users\\andre\\appdata\\local\\programs\\python\\python311\\lib\\site-packages (from matplotlib>=1.4.0->scikit-plot) (0.12.1)\n",
            "Requirement already satisfied: fonttools>=4.22.0 in c:\\users\\andre\\appdata\\local\\programs\\python\\python311\\lib\\site-packages (from matplotlib>=1.4.0->scikit-plot) (4.53.0)\n",
            "Requirement already satisfied: kiwisolver>=1.3.1 in c:\\users\\andre\\appdata\\local\\programs\\python\\python311\\lib\\site-packages (from matplotlib>=1.4.0->scikit-plot) (1.4.5)\n",
            "Requirement already satisfied: numpy>=1.23 in c:\\users\\andre\\appdata\\local\\programs\\python\\python311\\lib\\site-packages (from matplotlib>=1.4.0->scikit-plot) (2.0.0)\n",
            "Requirement already satisfied: packaging>=20.0 in c:\\users\\andre\\appdata\\roaming\\python\\python311\\site-packages (from matplotlib>=1.4.0->scikit-plot) (24.1)\n",
            "Requirement already satisfied: pillow>=8 in c:\\users\\andre\\appdata\\local\\programs\\python\\python311\\lib\\site-packages (from matplotlib>=1.4.0->scikit-plot) (10.3.0)\n",
            "Requirement already satisfied: pyparsing>=2.3.1 in c:\\users\\andre\\appdata\\local\\programs\\python\\python311\\lib\\site-packages (from matplotlib>=1.4.0->scikit-plot) (3.1.2)\n",
            "Requirement already satisfied: python-dateutil>=2.7 in c:\\users\\andre\\appdata\\local\\programs\\python\\python311\\lib\\site-packages (from matplotlib>=1.4.0->scikit-plot) (2.9.0.post0)\n",
            "Requirement already satisfied: threadpoolctl>=3.1.0 in c:\\users\\andre\\appdata\\local\\programs\\python\\python311\\lib\\site-packages (from scikit-learn>=0.18->scikit-plot) (3.5.0)\n",
            "Requirement already satisfied: six>=1.5 in c:\\users\\andre\\appdata\\local\\programs\\python\\python311\\lib\\site-packages (from python-dateutil>=2.7->matplotlib>=1.4.0->scikit-plot) (1.16.0)\n",
            "Installing collected packages: scikit-plot\n",
            "Successfully installed scikit-plot-0.3.7\n"
          ]
        },
        {
          "name": "stderr",
          "output_type": "stream",
          "text": [
            "\n",
            "[notice] A new release of pip available: 22.3.1 -> 24.1\n",
            "[notice] To update, run: python.exe -m pip install --upgrade pip\n"
          ]
        },
        {
          "name": "stdout",
          "output_type": "stream",
          "text": [
            "Collecting graphviz\n",
            "  Downloading graphviz-0.20.3-py3-none-any.whl (47 kB)\n",
            "     -------------------------------------- 47.1/47.1 kB 784.8 kB/s eta 0:00:00\n",
            "Installing collected packages: graphviz\n",
            "Successfully installed graphviz-0.20.3\n"
          ]
        },
        {
          "name": "stderr",
          "output_type": "stream",
          "text": [
            "\n",
            "[notice] A new release of pip available: 22.3.1 -> 24.1\n",
            "[notice] To update, run: python.exe -m pip install --upgrade pip\n"
          ]
        }
      ],
      "source": [
        "#Instalación de librerías\n",
        "!pip install pandas\n",
        "!pip install numpy\n",
        "!pip install seaborn\n",
        "!pip install matplotlib\n",
        "!pip install scikit-learn\n",
        "!pip install scipy\n",
        "!pip install statsmodels\n",
        "!pip install imbalanced-learn\n",
        "!pip install scikit-plot\n",
        "!pip install graphviz\n",
        "%pip install pyarrow fastparquet"
      ]
    },
    {
      "cell_type": "markdown",
      "metadata": {},
      "source": [
        "# Librerias"
      ]
    },
    {
      "cell_type": "code",
      "execution_count": 1,
      "metadata": {},
      "outputs": [
        {
          "ename": "ImportError",
          "evalue": "cannot import name 'DataFrameModifier' from 'test' (c:\\Users\\andre\\AppData\\Local\\Programs\\Python\\Python311\\Lib\\test\\__init__.py)",
          "output_type": "error",
          "traceback": [
            "\u001b[1;31m---------------------------------------------------------------------------\u001b[0m",
            "\u001b[1;31mImportError\u001b[0m                               Traceback (most recent call last)",
            "Cell \u001b[1;32mIn[1], line 2\u001b[0m\n\u001b[0;32m      1\u001b[0m \u001b[38;5;66;03m#Scripts\u001b[39;00m\n\u001b[1;32m----> 2\u001b[0m \u001b[38;5;28;01mfrom\u001b[39;00m \u001b[38;5;21;01mtest\u001b[39;00m \u001b[38;5;28;01mimport\u001b[39;00m DataFrameModifier\n",
            "\u001b[1;31mImportError\u001b[0m: cannot import name 'DataFrameModifier' from 'test' (c:\\Users\\andre\\AppData\\Local\\Programs\\Python\\Python311\\Lib\\test\\__init__.py)"
          ]
        }
      ],
      "source": [
        "#Scripts\n",
        "#from test import DataFrameModifier"
      ]
    },
    {
      "cell_type": "code",
      "execution_count": 1,
      "metadata": {
        "id": "M_v53hawo6L8"
      },
      "outputs": [],
      "source": [
        "#Datos\n",
        "import pandas as pd\n",
        "import numpy as np\n",
        "\n",
        "#Graficar\n",
        "import seaborn as sns\n",
        "import matplotlib.pyplot as plt\n",
        "#import matplotlib\n",
        "#import matplotlib.patches as patches\n",
        "\n",
        "\n",
        "# Generador de tablas de contingencia\n",
        "from pandas import crosstab\n",
        "from sklearn.metrics import mutual_info_score\n",
        "\n",
        "#Test chi-cuadrado\n",
        "from scipy.stats import chi2_contingency\n",
        "\n",
        "#Imputación\n",
        "from sklearn.impute import SimpleImputer\n",
        "#from sklearn.impute import KNNImputer\n",
        "\n",
        "\n",
        "#QQ\n",
        "import statsmodels.api as sm\n",
        "#Shapiro\n",
        "from scipy import stats\n",
        "\n",
        "#Escalamiento\n",
        "from sklearn.preprocessing import StandardScaler\n",
        "from sklearn.preprocessing import MinMaxScaler\n",
        "#from sklearn.preprocessing import RobustScaler\n",
        "\n",
        "#Transformación numérica\n",
        "#from sklearn.preprocessing import LabelEncoder\n",
        "\n",
        "#K-means\n",
        "from sklearn.cluster import KMeans\n",
        "from sklearn.metrics import silhouette_score\n",
        "\n",
        "#Outliers\n",
        "from sklearn.neighbors import LocalOutlierFactor\n",
        "from scipy.special import entr #Entropía\n",
        "\n",
        "#Balanceo\n",
        "from imblearn.over_sampling import SMOTE\n",
        "from imblearn.over_sampling import RandomOverSampler\n",
        "\n",
        "#Advertencias\n",
        "import warnings\n",
        "\n",
        "#Separación train-test\n",
        "from sklearn.model_selection import train_test_split\n",
        "from sklearn.model_selection import cross_validate\n",
        "from sklearn.model_selection import cross_val_score\n",
        "from sklearn.model_selection import cross_val_predict\n",
        "from sklearn.model_selection import GridSearchCV\n",
        "from sklearn.model_selection import ParameterGrid\n",
        "\n",
        "#Modelos\n",
        "from sklearn.linear_model import LogisticRegression\n",
        "from sklearn.ensemble import RandomForestClassifier\n",
        "from sklearn import svm\n",
        "from sklearn.svm import SVC\n",
        "from sklearn.neighbors import KNeighborsClassifier\n",
        "from sklearn.tree import DecisionTreeClassifier\n",
        "from sklearn.naive_bayes import ComplementNB\n",
        "from sklearn import neighbors\n",
        "from sklearn import tree\n",
        "from sklearn.neural_network import MLPClassifier\n",
        "from sklearn.tree import plot_tree\n",
        "import graphviz\n",
        "#from sklearn.tree import export_graphviz\n",
        "#from sklearn.naive_bayes import CategoricalNB\n",
        "\n",
        "#Métricas\n",
        "from sklearn import metrics\n",
        "from sklearn.metrics import precision_score\n",
        "from sklearn.metrics import confusion_matrix\n",
        "from sklearn.metrics import f1_score\n",
        "from sklearn.metrics import roc_auc_score\n",
        "from sklearn.metrics import roc_curve\n",
        "from sklearn.metrics import recall_score\n",
        "from sklearn.metrics import accuracy_score\n",
        "from sklearn.metrics import classification_report\n",
        "#from sklearn.metrics import calinski_harabasz_score\n",
        "#from sklearn.metrics import davies_bouldin_score\n",
        "#from sklearn.metrics import pairwise_distances\n",
        "\n",
        "from datetime import datetime, time\n",
        "\n",
        "#Otros\n",
        "\n",
        "#import io\n",
        "#import requests\n",
        "#from sklearn.model_selection import RepeatedKFold\n",
        "#from sklearn.inspection import permutation_importance\n",
        "#from sklearn import datasets\n",
        "#from sklearn.random_projection import johnson_lindenstrauss_min_dim, GaussianRandomProjection, SparseRandomProjection\n",
        "#from sklearn.decomposition import PCA\n",
        "#from sklearn.decomposition import KernelPCA\n",
        "#from sklearn.datasets import make_classification\n",
        "#from scipy import special\n",
        "#from scipy.stats import spearmanr\n",
        "#from scipy.spatial.distance import euclidean\n",
        "#from collections import defaultdict\n",
        "#from yellowbrick.cluster import KElbowVisualizer\n",
        "#from validclust.indices import dunn\n",
        "#from ds_utils.unsupervised import plot_cluster_cardinality, plot_cluster_magnitude, plot_magnitude_vs_cardinality"
      ]
    },
    {
      "cell_type": "markdown",
      "metadata": {},
      "source": [
        "## Abrir desde vsc"
      ]
    },
    {
      "cell_type": "code",
      "execution_count": 2,
      "metadata": {},
      "outputs": [],
      "source": [
        "#Lectura de datos desde vsc\n",
        "betdataset = pd.read_csv('../data/raw/bustabit.csv')"
      ]
    },
    {
      "cell_type": "markdown",
      "metadata": {},
      "source": [
        "## Abrir desde kaggle"
      ]
    },
    {
      "cell_type": "code",
      "execution_count": 3,
      "metadata": {
        "id": "hBGYdx2hqcXp"
      },
      "outputs": [
        {
          "ename": "FileNotFoundError",
          "evalue": "[Errno 2] No such file or directory: 'bustabit.csv'",
          "output_type": "error",
          "traceback": [
            "\u001b[1;31m---------------------------------------------------------------------------\u001b[0m",
            "\u001b[1;31mFileNotFoundError\u001b[0m                         Traceback (most recent call last)",
            "Cell \u001b[1;32mIn[3], line 2\u001b[0m\n\u001b[0;32m      1\u001b[0m \u001b[38;5;66;03m#Lectura base de datos desde kaggle\u001b[39;00m\n\u001b[1;32m----> 2\u001b[0m betdataset \u001b[38;5;241m=\u001b[39m \u001b[43mpd\u001b[49m\u001b[38;5;241;43m.\u001b[39;49m\u001b[43mread_csv\u001b[49m\u001b[43m(\u001b[49m\u001b[38;5;124;43m'\u001b[39;49m\u001b[38;5;124;43mbustabit.csv\u001b[39;49m\u001b[38;5;124;43m'\u001b[39;49m\u001b[43m)\u001b[49m\n",
            "File \u001b[1;32mc:\\Users\\andre\\AppData\\Local\\Programs\\Python\\Python311\\Lib\\site-packages\\pandas\\io\\parsers\\readers.py:1026\u001b[0m, in \u001b[0;36mread_csv\u001b[1;34m(filepath_or_buffer, sep, delimiter, header, names, index_col, usecols, dtype, engine, converters, true_values, false_values, skipinitialspace, skiprows, skipfooter, nrows, na_values, keep_default_na, na_filter, verbose, skip_blank_lines, parse_dates, infer_datetime_format, keep_date_col, date_parser, date_format, dayfirst, cache_dates, iterator, chunksize, compression, thousands, decimal, lineterminator, quotechar, quoting, doublequote, escapechar, comment, encoding, encoding_errors, dialect, on_bad_lines, delim_whitespace, low_memory, memory_map, float_precision, storage_options, dtype_backend)\u001b[0m\n\u001b[0;32m   1013\u001b[0m kwds_defaults \u001b[38;5;241m=\u001b[39m _refine_defaults_read(\n\u001b[0;32m   1014\u001b[0m     dialect,\n\u001b[0;32m   1015\u001b[0m     delimiter,\n\u001b[1;32m   (...)\u001b[0m\n\u001b[0;32m   1022\u001b[0m     dtype_backend\u001b[38;5;241m=\u001b[39mdtype_backend,\n\u001b[0;32m   1023\u001b[0m )\n\u001b[0;32m   1024\u001b[0m kwds\u001b[38;5;241m.\u001b[39mupdate(kwds_defaults)\n\u001b[1;32m-> 1026\u001b[0m \u001b[38;5;28;01mreturn\u001b[39;00m \u001b[43m_read\u001b[49m\u001b[43m(\u001b[49m\u001b[43mfilepath_or_buffer\u001b[49m\u001b[43m,\u001b[49m\u001b[43m \u001b[49m\u001b[43mkwds\u001b[49m\u001b[43m)\u001b[49m\n",
            "File \u001b[1;32mc:\\Users\\andre\\AppData\\Local\\Programs\\Python\\Python311\\Lib\\site-packages\\pandas\\io\\parsers\\readers.py:620\u001b[0m, in \u001b[0;36m_read\u001b[1;34m(filepath_or_buffer, kwds)\u001b[0m\n\u001b[0;32m    617\u001b[0m _validate_names(kwds\u001b[38;5;241m.\u001b[39mget(\u001b[38;5;124m\"\u001b[39m\u001b[38;5;124mnames\u001b[39m\u001b[38;5;124m\"\u001b[39m, \u001b[38;5;28;01mNone\u001b[39;00m))\n\u001b[0;32m    619\u001b[0m \u001b[38;5;66;03m# Create the parser.\u001b[39;00m\n\u001b[1;32m--> 620\u001b[0m parser \u001b[38;5;241m=\u001b[39m \u001b[43mTextFileReader\u001b[49m\u001b[43m(\u001b[49m\u001b[43mfilepath_or_buffer\u001b[49m\u001b[43m,\u001b[49m\u001b[43m \u001b[49m\u001b[38;5;241;43m*\u001b[39;49m\u001b[38;5;241;43m*\u001b[39;49m\u001b[43mkwds\u001b[49m\u001b[43m)\u001b[49m\n\u001b[0;32m    622\u001b[0m \u001b[38;5;28;01mif\u001b[39;00m chunksize \u001b[38;5;129;01mor\u001b[39;00m iterator:\n\u001b[0;32m    623\u001b[0m     \u001b[38;5;28;01mreturn\u001b[39;00m parser\n",
            "File \u001b[1;32mc:\\Users\\andre\\AppData\\Local\\Programs\\Python\\Python311\\Lib\\site-packages\\pandas\\io\\parsers\\readers.py:1620\u001b[0m, in \u001b[0;36mTextFileReader.__init__\u001b[1;34m(self, f, engine, **kwds)\u001b[0m\n\u001b[0;32m   1617\u001b[0m     \u001b[38;5;28mself\u001b[39m\u001b[38;5;241m.\u001b[39moptions[\u001b[38;5;124m\"\u001b[39m\u001b[38;5;124mhas_index_names\u001b[39m\u001b[38;5;124m\"\u001b[39m] \u001b[38;5;241m=\u001b[39m kwds[\u001b[38;5;124m\"\u001b[39m\u001b[38;5;124mhas_index_names\u001b[39m\u001b[38;5;124m\"\u001b[39m]\n\u001b[0;32m   1619\u001b[0m \u001b[38;5;28mself\u001b[39m\u001b[38;5;241m.\u001b[39mhandles: IOHandles \u001b[38;5;241m|\u001b[39m \u001b[38;5;28;01mNone\u001b[39;00m \u001b[38;5;241m=\u001b[39m \u001b[38;5;28;01mNone\u001b[39;00m\n\u001b[1;32m-> 1620\u001b[0m \u001b[38;5;28mself\u001b[39m\u001b[38;5;241m.\u001b[39m_engine \u001b[38;5;241m=\u001b[39m \u001b[38;5;28;43mself\u001b[39;49m\u001b[38;5;241;43m.\u001b[39;49m\u001b[43m_make_engine\u001b[49m\u001b[43m(\u001b[49m\u001b[43mf\u001b[49m\u001b[43m,\u001b[49m\u001b[43m \u001b[49m\u001b[38;5;28;43mself\u001b[39;49m\u001b[38;5;241;43m.\u001b[39;49m\u001b[43mengine\u001b[49m\u001b[43m)\u001b[49m\n",
            "File \u001b[1;32mc:\\Users\\andre\\AppData\\Local\\Programs\\Python\\Python311\\Lib\\site-packages\\pandas\\io\\parsers\\readers.py:1880\u001b[0m, in \u001b[0;36mTextFileReader._make_engine\u001b[1;34m(self, f, engine)\u001b[0m\n\u001b[0;32m   1878\u001b[0m     \u001b[38;5;28;01mif\u001b[39;00m \u001b[38;5;124m\"\u001b[39m\u001b[38;5;124mb\u001b[39m\u001b[38;5;124m\"\u001b[39m \u001b[38;5;129;01mnot\u001b[39;00m \u001b[38;5;129;01min\u001b[39;00m mode:\n\u001b[0;32m   1879\u001b[0m         mode \u001b[38;5;241m+\u001b[39m\u001b[38;5;241m=\u001b[39m \u001b[38;5;124m\"\u001b[39m\u001b[38;5;124mb\u001b[39m\u001b[38;5;124m\"\u001b[39m\n\u001b[1;32m-> 1880\u001b[0m \u001b[38;5;28mself\u001b[39m\u001b[38;5;241m.\u001b[39mhandles \u001b[38;5;241m=\u001b[39m \u001b[43mget_handle\u001b[49m\u001b[43m(\u001b[49m\n\u001b[0;32m   1881\u001b[0m \u001b[43m    \u001b[49m\u001b[43mf\u001b[49m\u001b[43m,\u001b[49m\n\u001b[0;32m   1882\u001b[0m \u001b[43m    \u001b[49m\u001b[43mmode\u001b[49m\u001b[43m,\u001b[49m\n\u001b[0;32m   1883\u001b[0m \u001b[43m    \u001b[49m\u001b[43mencoding\u001b[49m\u001b[38;5;241;43m=\u001b[39;49m\u001b[38;5;28;43mself\u001b[39;49m\u001b[38;5;241;43m.\u001b[39;49m\u001b[43moptions\u001b[49m\u001b[38;5;241;43m.\u001b[39;49m\u001b[43mget\u001b[49m\u001b[43m(\u001b[49m\u001b[38;5;124;43m\"\u001b[39;49m\u001b[38;5;124;43mencoding\u001b[39;49m\u001b[38;5;124;43m\"\u001b[39;49m\u001b[43m,\u001b[49m\u001b[43m \u001b[49m\u001b[38;5;28;43;01mNone\u001b[39;49;00m\u001b[43m)\u001b[49m\u001b[43m,\u001b[49m\n\u001b[0;32m   1884\u001b[0m \u001b[43m    \u001b[49m\u001b[43mcompression\u001b[49m\u001b[38;5;241;43m=\u001b[39;49m\u001b[38;5;28;43mself\u001b[39;49m\u001b[38;5;241;43m.\u001b[39;49m\u001b[43moptions\u001b[49m\u001b[38;5;241;43m.\u001b[39;49m\u001b[43mget\u001b[49m\u001b[43m(\u001b[49m\u001b[38;5;124;43m\"\u001b[39;49m\u001b[38;5;124;43mcompression\u001b[39;49m\u001b[38;5;124;43m\"\u001b[39;49m\u001b[43m,\u001b[49m\u001b[43m \u001b[49m\u001b[38;5;28;43;01mNone\u001b[39;49;00m\u001b[43m)\u001b[49m\u001b[43m,\u001b[49m\n\u001b[0;32m   1885\u001b[0m \u001b[43m    \u001b[49m\u001b[43mmemory_map\u001b[49m\u001b[38;5;241;43m=\u001b[39;49m\u001b[38;5;28;43mself\u001b[39;49m\u001b[38;5;241;43m.\u001b[39;49m\u001b[43moptions\u001b[49m\u001b[38;5;241;43m.\u001b[39;49m\u001b[43mget\u001b[49m\u001b[43m(\u001b[49m\u001b[38;5;124;43m\"\u001b[39;49m\u001b[38;5;124;43mmemory_map\u001b[39;49m\u001b[38;5;124;43m\"\u001b[39;49m\u001b[43m,\u001b[49m\u001b[43m \u001b[49m\u001b[38;5;28;43;01mFalse\u001b[39;49;00m\u001b[43m)\u001b[49m\u001b[43m,\u001b[49m\n\u001b[0;32m   1886\u001b[0m \u001b[43m    \u001b[49m\u001b[43mis_text\u001b[49m\u001b[38;5;241;43m=\u001b[39;49m\u001b[43mis_text\u001b[49m\u001b[43m,\u001b[49m\n\u001b[0;32m   1887\u001b[0m \u001b[43m    \u001b[49m\u001b[43merrors\u001b[49m\u001b[38;5;241;43m=\u001b[39;49m\u001b[38;5;28;43mself\u001b[39;49m\u001b[38;5;241;43m.\u001b[39;49m\u001b[43moptions\u001b[49m\u001b[38;5;241;43m.\u001b[39;49m\u001b[43mget\u001b[49m\u001b[43m(\u001b[49m\u001b[38;5;124;43m\"\u001b[39;49m\u001b[38;5;124;43mencoding_errors\u001b[39;49m\u001b[38;5;124;43m\"\u001b[39;49m\u001b[43m,\u001b[49m\u001b[43m \u001b[49m\u001b[38;5;124;43m\"\u001b[39;49m\u001b[38;5;124;43mstrict\u001b[39;49m\u001b[38;5;124;43m\"\u001b[39;49m\u001b[43m)\u001b[49m\u001b[43m,\u001b[49m\n\u001b[0;32m   1888\u001b[0m \u001b[43m    \u001b[49m\u001b[43mstorage_options\u001b[49m\u001b[38;5;241;43m=\u001b[39;49m\u001b[38;5;28;43mself\u001b[39;49m\u001b[38;5;241;43m.\u001b[39;49m\u001b[43moptions\u001b[49m\u001b[38;5;241;43m.\u001b[39;49m\u001b[43mget\u001b[49m\u001b[43m(\u001b[49m\u001b[38;5;124;43m\"\u001b[39;49m\u001b[38;5;124;43mstorage_options\u001b[39;49m\u001b[38;5;124;43m\"\u001b[39;49m\u001b[43m,\u001b[49m\u001b[43m \u001b[49m\u001b[38;5;28;43;01mNone\u001b[39;49;00m\u001b[43m)\u001b[49m\u001b[43m,\u001b[49m\n\u001b[0;32m   1889\u001b[0m \u001b[43m\u001b[49m\u001b[43m)\u001b[49m\n\u001b[0;32m   1890\u001b[0m \u001b[38;5;28;01massert\u001b[39;00m \u001b[38;5;28mself\u001b[39m\u001b[38;5;241m.\u001b[39mhandles \u001b[38;5;129;01mis\u001b[39;00m \u001b[38;5;129;01mnot\u001b[39;00m \u001b[38;5;28;01mNone\u001b[39;00m\n\u001b[0;32m   1891\u001b[0m f \u001b[38;5;241m=\u001b[39m \u001b[38;5;28mself\u001b[39m\u001b[38;5;241m.\u001b[39mhandles\u001b[38;5;241m.\u001b[39mhandle\n",
            "File \u001b[1;32mc:\\Users\\andre\\AppData\\Local\\Programs\\Python\\Python311\\Lib\\site-packages\\pandas\\io\\common.py:873\u001b[0m, in \u001b[0;36mget_handle\u001b[1;34m(path_or_buf, mode, encoding, compression, memory_map, is_text, errors, storage_options)\u001b[0m\n\u001b[0;32m    868\u001b[0m \u001b[38;5;28;01melif\u001b[39;00m \u001b[38;5;28misinstance\u001b[39m(handle, \u001b[38;5;28mstr\u001b[39m):\n\u001b[0;32m    869\u001b[0m     \u001b[38;5;66;03m# Check whether the filename is to be opened in binary mode.\u001b[39;00m\n\u001b[0;32m    870\u001b[0m     \u001b[38;5;66;03m# Binary mode does not support 'encoding' and 'newline'.\u001b[39;00m\n\u001b[0;32m    871\u001b[0m     \u001b[38;5;28;01mif\u001b[39;00m ioargs\u001b[38;5;241m.\u001b[39mencoding \u001b[38;5;129;01mand\u001b[39;00m \u001b[38;5;124m\"\u001b[39m\u001b[38;5;124mb\u001b[39m\u001b[38;5;124m\"\u001b[39m \u001b[38;5;129;01mnot\u001b[39;00m \u001b[38;5;129;01min\u001b[39;00m ioargs\u001b[38;5;241m.\u001b[39mmode:\n\u001b[0;32m    872\u001b[0m         \u001b[38;5;66;03m# Encoding\u001b[39;00m\n\u001b[1;32m--> 873\u001b[0m         handle \u001b[38;5;241m=\u001b[39m \u001b[38;5;28;43mopen\u001b[39;49m\u001b[43m(\u001b[49m\n\u001b[0;32m    874\u001b[0m \u001b[43m            \u001b[49m\u001b[43mhandle\u001b[49m\u001b[43m,\u001b[49m\n\u001b[0;32m    875\u001b[0m \u001b[43m            \u001b[49m\u001b[43mioargs\u001b[49m\u001b[38;5;241;43m.\u001b[39;49m\u001b[43mmode\u001b[49m\u001b[43m,\u001b[49m\n\u001b[0;32m    876\u001b[0m \u001b[43m            \u001b[49m\u001b[43mencoding\u001b[49m\u001b[38;5;241;43m=\u001b[39;49m\u001b[43mioargs\u001b[49m\u001b[38;5;241;43m.\u001b[39;49m\u001b[43mencoding\u001b[49m\u001b[43m,\u001b[49m\n\u001b[0;32m    877\u001b[0m \u001b[43m            \u001b[49m\u001b[43merrors\u001b[49m\u001b[38;5;241;43m=\u001b[39;49m\u001b[43merrors\u001b[49m\u001b[43m,\u001b[49m\n\u001b[0;32m    878\u001b[0m \u001b[43m            \u001b[49m\u001b[43mnewline\u001b[49m\u001b[38;5;241;43m=\u001b[39;49m\u001b[38;5;124;43m\"\u001b[39;49m\u001b[38;5;124;43m\"\u001b[39;49m\u001b[43m,\u001b[49m\n\u001b[0;32m    879\u001b[0m \u001b[43m        \u001b[49m\u001b[43m)\u001b[49m\n\u001b[0;32m    880\u001b[0m     \u001b[38;5;28;01melse\u001b[39;00m:\n\u001b[0;32m    881\u001b[0m         \u001b[38;5;66;03m# Binary mode\u001b[39;00m\n\u001b[0;32m    882\u001b[0m         handle \u001b[38;5;241m=\u001b[39m \u001b[38;5;28mopen\u001b[39m(handle, ioargs\u001b[38;5;241m.\u001b[39mmode)\n",
            "\u001b[1;31mFileNotFoundError\u001b[0m: [Errno 2] No such file or directory: 'bustabit.csv'"
          ]
        }
      ],
      "source": [
        "#Lectura base de datos desde kaggle\n",
        "betdataset = pd.read_csv('bustabit.csv')"
      ]
    },
    {
      "cell_type": "code",
      "execution_count": 3,
      "metadata": {
        "colab": {
          "base_uri": "https://localhost:8080/",
          "height": 423
        },
        "id": "fzmYCG0ABYND",
        "outputId": "8c13acf9-c4cb-485d-ef34-110d7d63ef56"
      },
      "outputs": [
        {
          "data": {
            "text/html": [
              "<div>\n",
              "<style scoped>\n",
              "    .dataframe tbody tr th:only-of-type {\n",
              "        vertical-align: middle;\n",
              "    }\n",
              "\n",
              "    .dataframe tbody tr th {\n",
              "        vertical-align: top;\n",
              "    }\n",
              "\n",
              "    .dataframe thead th {\n",
              "        text-align: right;\n",
              "    }\n",
              "</style>\n",
              "<table border=\"1\" class=\"dataframe\">\n",
              "  <thead>\n",
              "    <tr style=\"text-align: right;\">\n",
              "      <th></th>\n",
              "      <th>Id</th>\n",
              "      <th>GameID</th>\n",
              "      <th>Username</th>\n",
              "      <th>Bet</th>\n",
              "      <th>CashedOut</th>\n",
              "      <th>Bonus</th>\n",
              "      <th>Profit</th>\n",
              "      <th>BustedAt</th>\n",
              "      <th>PlayDate</th>\n",
              "    </tr>\n",
              "  </thead>\n",
              "  <tbody>\n",
              "    <tr>\n",
              "      <th>0</th>\n",
              "      <td>14196549</td>\n",
              "      <td>3366002</td>\n",
              "      <td>papai</td>\n",
              "      <td>5</td>\n",
              "      <td>1.20</td>\n",
              "      <td>0.000</td>\n",
              "      <td>1.00</td>\n",
              "      <td>8.24</td>\n",
              "      <td>2016-11-20T19:44:19Z</td>\n",
              "    </tr>\n",
              "    <tr>\n",
              "      <th>1</th>\n",
              "      <td>10676217</td>\n",
              "      <td>3343882</td>\n",
              "      <td>znay22</td>\n",
              "      <td>3</td>\n",
              "      <td>NaN</td>\n",
              "      <td>NaN</td>\n",
              "      <td>NaN</td>\n",
              "      <td>1.40</td>\n",
              "      <td>2016-11-14T14:21:50Z</td>\n",
              "    </tr>\n",
              "    <tr>\n",
              "      <th>2</th>\n",
              "      <td>15577107</td>\n",
              "      <td>3374646</td>\n",
              "      <td>rrrrrrrr</td>\n",
              "      <td>4</td>\n",
              "      <td>1.33</td>\n",
              "      <td>0.030</td>\n",
              "      <td>1.44</td>\n",
              "      <td>3.15</td>\n",
              "      <td>2016-11-23T06:39:15Z</td>\n",
              "    </tr>\n",
              "    <tr>\n",
              "      <th>3</th>\n",
              "      <td>25732127</td>\n",
              "      <td>3429241</td>\n",
              "      <td>sanya1206</td>\n",
              "      <td>10</td>\n",
              "      <td>NaN</td>\n",
              "      <td>NaN</td>\n",
              "      <td>NaN</td>\n",
              "      <td>1.63</td>\n",
              "      <td>2016-12-08T18:13:55Z</td>\n",
              "    </tr>\n",
              "    <tr>\n",
              "      <th>4</th>\n",
              "      <td>17995432</td>\n",
              "      <td>3389174</td>\n",
              "      <td>ADM</td>\n",
              "      <td>50</td>\n",
              "      <td>1.50</td>\n",
              "      <td>0.014</td>\n",
              "      <td>25.70</td>\n",
              "      <td>2.29</td>\n",
              "      <td>2016-11-27T08:14:48Z</td>\n",
              "    </tr>\n",
              "    <tr>\n",
              "      <th>...</th>\n",
              "      <td>...</td>\n",
              "      <td>...</td>\n",
              "      <td>...</td>\n",
              "      <td>...</td>\n",
              "      <td>...</td>\n",
              "      <td>...</td>\n",
              "      <td>...</td>\n",
              "      <td>...</td>\n",
              "      <td>...</td>\n",
              "    </tr>\n",
              "    <tr>\n",
              "      <th>49995</th>\n",
              "      <td>21345100</td>\n",
              "      <td>3406167</td>\n",
              "      <td>ElenaV</td>\n",
              "      <td>4</td>\n",
              "      <td>NaN</td>\n",
              "      <td>NaN</td>\n",
              "      <td>NaN</td>\n",
              "      <td>4.80</td>\n",
              "      <td>2016-12-02T05:00:57Z</td>\n",
              "    </tr>\n",
              "    <tr>\n",
              "      <th>49996</th>\n",
              "      <td>1461408</td>\n",
              "      <td>3302415</td>\n",
              "      <td>Sandboxx</td>\n",
              "      <td>3000</td>\n",
              "      <td>1.04</td>\n",
              "      <td>0.000</td>\n",
              "      <td>120.00</td>\n",
              "      <td>5.03</td>\n",
              "      <td>2016-11-02T19:01:58Z</td>\n",
              "    </tr>\n",
              "    <tr>\n",
              "      <th>49997</th>\n",
              "      <td>19704592</td>\n",
              "      <td>3398419</td>\n",
              "      <td>Ferreck</td>\n",
              "      <td>1</td>\n",
              "      <td>NaN</td>\n",
              "      <td>NaN</td>\n",
              "      <td>NaN</td>\n",
              "      <td>1.06</td>\n",
              "      <td>2016-11-29T23:48:11Z</td>\n",
              "    </tr>\n",
              "    <tr>\n",
              "      <th>49998</th>\n",
              "      <td>20075463</td>\n",
              "      <td>3400278</td>\n",
              "      <td>ugneri</td>\n",
              "      <td>68</td>\n",
              "      <td>1.33</td>\n",
              "      <td>0.000</td>\n",
              "      <td>22.44</td>\n",
              "      <td>19.00</td>\n",
              "      <td>2016-11-30T12:29:56Z</td>\n",
              "    </tr>\n",
              "    <tr>\n",
              "      <th>49999</th>\n",
              "      <td>14739654</td>\n",
              "      <td>3369631</td>\n",
              "      <td>ALIEN_SULACO</td>\n",
              "      <td>300</td>\n",
              "      <td>1.30</td>\n",
              "      <td>0.000</td>\n",
              "      <td>90.00</td>\n",
              "      <td>2.38</td>\n",
              "      <td>2016-11-21T20:20:47Z</td>\n",
              "    </tr>\n",
              "  </tbody>\n",
              "</table>\n",
              "<p>50000 rows × 9 columns</p>\n",
              "</div>"
            ],
            "text/plain": [
              "             Id   GameID      Username   Bet  CashedOut  Bonus  Profit  \\\n",
              "0      14196549  3366002         papai     5       1.20  0.000    1.00   \n",
              "1      10676217  3343882        znay22     3        NaN    NaN     NaN   \n",
              "2      15577107  3374646      rrrrrrrr     4       1.33  0.030    1.44   \n",
              "3      25732127  3429241     sanya1206    10        NaN    NaN     NaN   \n",
              "4      17995432  3389174           ADM    50       1.50  0.014   25.70   \n",
              "...         ...      ...           ...   ...        ...    ...     ...   \n",
              "49995  21345100  3406167        ElenaV     4        NaN    NaN     NaN   \n",
              "49996   1461408  3302415      Sandboxx  3000       1.04  0.000  120.00   \n",
              "49997  19704592  3398419       Ferreck     1        NaN    NaN     NaN   \n",
              "49998  20075463  3400278        ugneri    68       1.33  0.000   22.44   \n",
              "49999  14739654  3369631  ALIEN_SULACO   300       1.30  0.000   90.00   \n",
              "\n",
              "       BustedAt              PlayDate  \n",
              "0          8.24  2016-11-20T19:44:19Z  \n",
              "1          1.40  2016-11-14T14:21:50Z  \n",
              "2          3.15  2016-11-23T06:39:15Z  \n",
              "3          1.63  2016-12-08T18:13:55Z  \n",
              "4          2.29  2016-11-27T08:14:48Z  \n",
              "...         ...                   ...  \n",
              "49995      4.80  2016-12-02T05:00:57Z  \n",
              "49996      5.03  2016-11-02T19:01:58Z  \n",
              "49997      1.06  2016-11-29T23:48:11Z  \n",
              "49998     19.00  2016-11-30T12:29:56Z  \n",
              "49999      2.38  2016-11-21T20:20:47Z  \n",
              "\n",
              "[50000 rows x 9 columns]"
            ]
          },
          "execution_count": 3,
          "metadata": {},
          "output_type": "execute_result"
        }
      ],
      "source": [
        "#Corregimos el porcentaje\n",
        "betdataset['Bonus']=betdataset['Bonus']/100\n",
        "betdataset"
      ]
    },
    {
      "cell_type": "code",
      "execution_count": 6,
      "metadata": {
        "colab": {
          "base_uri": "https://localhost:8080/",
          "height": 53
        },
        "id": "bntLbkAzwDs1",
        "outputId": "a735d5fc-9397-4da3-aedb-bd2b85a3f2a4"
      },
      "outputs": [
        {
          "data": {
            "text/html": [
              "<div>\n",
              "<style scoped>\n",
              "    .dataframe tbody tr th:only-of-type {\n",
              "        vertical-align: middle;\n",
              "    }\n",
              "\n",
              "    .dataframe tbody tr th {\n",
              "        vertical-align: top;\n",
              "    }\n",
              "\n",
              "    .dataframe thead th {\n",
              "        text-align: right;\n",
              "    }\n",
              "</style>\n",
              "<table border=\"1\" class=\"dataframe\">\n",
              "  <thead>\n",
              "    <tr style=\"text-align: right;\">\n",
              "      <th></th>\n",
              "      <th>Id</th>\n",
              "      <th>GameID</th>\n",
              "      <th>Username</th>\n",
              "      <th>Bet</th>\n",
              "      <th>CashedOut</th>\n",
              "      <th>Bonus</th>\n",
              "      <th>Profit</th>\n",
              "      <th>BustedAt</th>\n",
              "      <th>PlayDate</th>\n",
              "    </tr>\n",
              "  </thead>\n",
              "  <tbody>\n",
              "  </tbody>\n",
              "</table>\n",
              "</div>"
            ],
            "text/plain": [
              "Empty DataFrame\n",
              "Columns: [Id, GameID, Username, Bet, CashedOut, Bonus, Profit, BustedAt, PlayDate]\n",
              "Index: []"
            ]
          },
          "execution_count": 6,
          "metadata": {},
          "output_type": "execute_result"
        }
      ],
      "source": [
        "#Buscamos duplicados\n",
        "betdataset.loc[betdataset.duplicated()]"
      ]
    },
    {
      "cell_type": "code",
      "execution_count": 5,
      "metadata": {
        "colab": {
          "base_uri": "https://localhost:8080/"
        },
        "id": "i8-pkCuHkijX",
        "outputId": "c349ad5b-8cee-4cd6-fb04-b7c9930f5dbe"
      },
      "outputs": [
        {
          "name": "stdout",
          "output_type": "stream",
          "text": [
            "Id\n",
            "14739654    1\n",
            "14196549    1\n",
            "10676217    1\n",
            "15577107    1\n",
            "25732127    1\n",
            "           ..\n",
            "11423213    1\n",
            "6753767     1\n",
            "2387037     1\n",
            "25671554    1\n",
            "25646985    1\n",
            "Name: count, Length: 50000, dtype: int64 \n",
            " \n",
            "\n",
            "GameID\n",
            "3399896    5\n",
            "3316666    5\n",
            "3327220    5\n",
            "3326324    5\n",
            "3355418    5\n",
            "          ..\n",
            "3406167    1\n",
            "3302415    1\n",
            "3398419    1\n",
            "3400278    1\n",
            "3308212    1\n",
            "Name: count, Length: 42152, dtype: int64 \n",
            " \n",
            "\n",
            "Username\n",
            "megainvest     291\n",
            "Babuan12345    272\n",
            "xrnath         236\n",
            "JohnL          234\n",
            "Kirr923        216\n",
            "              ... \n",
            "veilcrypt        1\n",
            "Coloflower       1\n",
            "Egorichek        1\n",
            "L0v3Bi1t         1\n",
            "Romeojke         1\n",
            "Name: count, Length: 4149, dtype: int64 \n",
            " \n",
            "\n",
            "Bet\n",
            "1        6603\n",
            "2        3169\n",
            "10       2403\n",
            "3        2127\n",
            "4        1787\n",
            "         ... \n",
            "17100       1\n",
            "3123        1\n",
            "5039        1\n",
            "5423        1\n",
            "5895        1\n",
            "Name: count, Length: 2758, dtype: int64 \n",
            " \n",
            "\n",
            "CashedOut\n",
            "1.04     2744\n",
            "1.05     2704\n",
            "1.10     2573\n",
            "2.00     2164\n",
            "1.50     1160\n",
            "         ... \n",
            "5.82        1\n",
            "14.10       1\n",
            "55.21       1\n",
            "5.45        1\n",
            "4.90        1\n",
            "Name: count, Length: 478, dtype: int64 \n",
            " \n",
            "\n",
            "Bonus\n",
            "0.0000    13831\n",
            "0.0200     1223\n",
            "0.0300      822\n",
            "0.0400      413\n",
            "0.0100      408\n",
            "          ...  \n",
            "0.0834        1\n",
            "0.0796        1\n",
            "0.0031        1\n",
            "0.0626        1\n",
            "0.0599        1\n",
            "Name: count, Length: 722, dtype: int64 \n",
            " \n",
            "\n",
            "Profit\n",
            "0.10       578\n",
            "1.00       436\n",
            "0.05       310\n",
            "0.12       277\n",
            "0.20       260\n",
            "          ... \n",
            "240.49       1\n",
            "3078.17      1\n",
            "357.54       1\n",
            "101.55       1\n",
            "274.48       1\n",
            "Name: count, Length: 9057, dtype: int64 \n",
            " \n",
            "\n",
            "BustedAt\n",
            "0.00      540\n",
            "1.01      531\n",
            "1.00      511\n",
            "1.04      464\n",
            "1.02      461\n",
            "         ... \n",
            "30.26       1\n",
            "15.90       1\n",
            "139.64      1\n",
            "24.98       1\n",
            "98.56       1\n",
            "Name: count, Length: 3472, dtype: int64 \n",
            " \n",
            "\n",
            "PlayDate\n",
            "2016-11-30T09:52:31Z    5\n",
            "2016-11-06T20:38:51Z    5\n",
            "2016-11-09T20:54:44Z    5\n",
            "2016-11-09T14:35:03Z    5\n",
            "2016-11-17T20:20:24Z    5\n",
            "                       ..\n",
            "2016-12-02T05:00:57Z    1\n",
            "2016-11-02T19:01:58Z    1\n",
            "2016-11-29T23:48:11Z    1\n",
            "2016-11-30T12:29:56Z    1\n",
            "2016-11-04T10:52:52Z    1\n",
            "Name: count, Length: 42152, dtype: int64 \n",
            " \n",
            "\n"
          ]
        }
      ],
      "source": [
        "#En busca de calidad en los datos\n",
        "for i in betdataset.columns:\n",
        "    print(betdataset[i].value_counts(), \"\\n\", \"\\n\")"
      ]
    },
    {
      "cell_type": "code",
      "execution_count": 7,
      "metadata": {
        "colab": {
          "base_uri": "https://localhost:8080/",
          "height": 300
        },
        "id": "MZMLZ1teuXu9",
        "outputId": "8e98ee95-0f2d-4911-c7d9-64ebd2e0cd80"
      },
      "outputs": [
        {
          "data": {
            "text/html": [
              "<div>\n",
              "<style scoped>\n",
              "    .dataframe tbody tr th:only-of-type {\n",
              "        vertical-align: middle;\n",
              "    }\n",
              "\n",
              "    .dataframe tbody tr th {\n",
              "        vertical-align: top;\n",
              "    }\n",
              "\n",
              "    .dataframe thead th {\n",
              "        text-align: right;\n",
              "    }\n",
              "</style>\n",
              "<table border=\"1\" class=\"dataframe\">\n",
              "  <thead>\n",
              "    <tr style=\"text-align: right;\">\n",
              "      <th></th>\n",
              "      <th>Id</th>\n",
              "      <th>GameID</th>\n",
              "      <th>Bet</th>\n",
              "      <th>CashedOut</th>\n",
              "      <th>Bonus</th>\n",
              "      <th>Profit</th>\n",
              "      <th>BustedAt</th>\n",
              "    </tr>\n",
              "  </thead>\n",
              "  <tbody>\n",
              "    <tr>\n",
              "      <th>count</th>\n",
              "      <td>5.000000e+04</td>\n",
              "      <td>5.000000e+04</td>\n",
              "      <td>50000.000000</td>\n",
              "      <td>28734.000000</td>\n",
              "      <td>28734.000000</td>\n",
              "      <td>2.873400e+04</td>\n",
              "      <td>50000.000000</td>\n",
              "    </tr>\n",
              "    <tr>\n",
              "      <th>mean</th>\n",
              "      <td>1.353050e+07</td>\n",
              "      <td>3.363443e+06</td>\n",
              "      <td>2935.250980</td>\n",
              "      <td>1.686600</td>\n",
              "      <td>0.013803</td>\n",
              "      <td>1.534772e+03</td>\n",
              "      <td>16.790000</td>\n",
              "    </tr>\n",
              "    <tr>\n",
              "      <th>std</th>\n",
              "      <td>7.768258e+06</td>\n",
              "      <td>4.160723e+04</td>\n",
              "      <td>30651.925762</td>\n",
              "      <td>2.185089</td>\n",
              "      <td>0.016281</td>\n",
              "      <td>2.000082e+04</td>\n",
              "      <td>1172.876203</td>\n",
              "    </tr>\n",
              "    <tr>\n",
              "      <th>min</th>\n",
              "      <td>8.540000e+02</td>\n",
              "      <td>3.294811e+06</td>\n",
              "      <td>1.000000</td>\n",
              "      <td>1.000000</td>\n",
              "      <td>0.000000</td>\n",
              "      <td>0.000000e+00</td>\n",
              "      <td>0.000000</td>\n",
              "    </tr>\n",
              "    <tr>\n",
              "      <th>25%</th>\n",
              "      <td>6.829364e+06</td>\n",
              "      <td>3.325926e+06</td>\n",
              "      <td>4.000000</td>\n",
              "      <td>1.070000</td>\n",
              "      <td>0.000000</td>\n",
              "      <td>8.500000e-01</td>\n",
              "      <td>1.310000</td>\n",
              "    </tr>\n",
              "    <tr>\n",
              "      <th>50%</th>\n",
              "      <td>1.357023e+07</td>\n",
              "      <td>3.362088e+06</td>\n",
              "      <td>20.000000</td>\n",
              "      <td>1.210000</td>\n",
              "      <td>0.010000</td>\n",
              "      <td>5.330000e+00</td>\n",
              "      <td>1.950000</td>\n",
              "    </tr>\n",
              "    <tr>\n",
              "      <th>75%</th>\n",
              "      <td>2.023714e+07</td>\n",
              "      <td>3.400994e+06</td>\n",
              "      <td>180.000000</td>\n",
              "      <td>1.570000</td>\n",
              "      <td>0.024700</td>\n",
              "      <td>6.303250e+01</td>\n",
              "      <td>3.852500</td>\n",
              "    </tr>\n",
              "    <tr>\n",
              "      <th>max</th>\n",
              "      <td>2.697852e+07</td>\n",
              "      <td>3.436562e+06</td>\n",
              "      <td>1000000.000000</td>\n",
              "      <td>126.000000</td>\n",
              "      <td>0.121400</td>\n",
              "      <td>1.175993e+06</td>\n",
              "      <td>251025.130000</td>\n",
              "    </tr>\n",
              "  </tbody>\n",
              "</table>\n",
              "</div>"
            ],
            "text/plain": [
              "                 Id        GameID             Bet     CashedOut         Bonus  \\\n",
              "count  5.000000e+04  5.000000e+04    50000.000000  28734.000000  28734.000000   \n",
              "mean   1.353050e+07  3.363443e+06     2935.250980      1.686600      0.013803   \n",
              "std    7.768258e+06  4.160723e+04    30651.925762      2.185089      0.016281   \n",
              "min    8.540000e+02  3.294811e+06        1.000000      1.000000      0.000000   \n",
              "25%    6.829364e+06  3.325926e+06        4.000000      1.070000      0.000000   \n",
              "50%    1.357023e+07  3.362088e+06       20.000000      1.210000      0.010000   \n",
              "75%    2.023714e+07  3.400994e+06      180.000000      1.570000      0.024700   \n",
              "max    2.697852e+07  3.436562e+06  1000000.000000    126.000000      0.121400   \n",
              "\n",
              "             Profit       BustedAt  \n",
              "count  2.873400e+04   50000.000000  \n",
              "mean   1.534772e+03      16.790000  \n",
              "std    2.000082e+04    1172.876203  \n",
              "min    0.000000e+00       0.000000  \n",
              "25%    8.500000e-01       1.310000  \n",
              "50%    5.330000e+00       1.950000  \n",
              "75%    6.303250e+01       3.852500  \n",
              "max    1.175993e+06  251025.130000  "
            ]
          },
          "execution_count": 7,
          "metadata": {},
          "output_type": "execute_result"
        }
      ],
      "source": [
        "betdataset.describe()"
      ]
    },
    {
      "cell_type": "markdown",
      "metadata": {},
      "source": [
        "## Transformación de variables"
      ]
    },
    {
      "cell_type": "code",
      "execution_count": 8,
      "metadata": {},
      "outputs": [],
      "source": [
        "#Transformación de una variable objeto a su forma datatime usando formato iso\n",
        "betdataset['PlayDate']=betdataset['PlayDate'].apply(lambda x: datetime.fromisoformat(x.replace('Z','+00:00')))"
      ]
    },
    {
      "cell_type": "markdown",
      "metadata": {},
      "source": [
        "## Imputación\n",
        "Se realiza un imputación individual debido a que las características de la base de datos y su composición es fundamental mantener su composición sin promedios o medianas"
      ]
    },
    {
      "cell_type": "code",
      "execution_count": 9,
      "metadata": {
        "id": "BWGINwAHwHwa"
      },
      "outputs": [
        {
          "name": "stderr",
          "output_type": "stream",
          "text": [
            "C:\\Users\\andre\\AppData\\Local\\Temp\\ipykernel_12096\\3126999022.py:2: FutureWarning: A value is trying to be set on a copy of a DataFrame or Series through chained assignment using an inplace method.\n",
            "The behavior will change in pandas 3.0. This inplace method will never work because the intermediate object on which we are setting values always behaves as a copy.\n",
            "\n",
            "For example, when doing 'df[col].method(value, inplace=True)', try using 'df.method({col: value}, inplace=True)' or df[col] = df[col].method(value) instead, to perform the operation inplace on the original object.\n",
            "\n",
            "\n",
            "  betdataset['Profit'].fillna(-betdataset['Bet'], inplace=True)\n"
          ]
        }
      ],
      "source": [
        "#Imputación variable profit con su negativo\n",
        "betdataset['Profit'].fillna(-betdataset['Bet'], inplace=True)"
      ]
    },
    {
      "cell_type": "code",
      "execution_count": 10,
      "metadata": {
        "id": "qRgmJigwwo3T"
      },
      "outputs": [
        {
          "name": "stderr",
          "output_type": "stream",
          "text": [
            "C:\\Users\\andre\\AppData\\Local\\Temp\\ipykernel_12096\\2335353200.py:2: FutureWarning: A value is trying to be set on a copy of a DataFrame or Series through chained assignment using an inplace method.\n",
            "The behavior will change in pandas 3.0. This inplace method will never work because the intermediate object on which we are setting values always behaves as a copy.\n",
            "\n",
            "For example, when doing 'df[col].method(value, inplace=True)', try using 'df.method({col: value}, inplace=True)' or df[col] = df[col].method(value) instead, to perform the operation inplace on the original object.\n",
            "\n",
            "\n",
            "  betdataset['Bonus'].fillna(0, inplace=True)\n"
          ]
        }
      ],
      "source": [
        "#Imputación variable bonus con cero a quienes no obtuvieron el bono\n",
        "betdataset['Bonus'].fillna(0, inplace=True)"
      ]
    },
    {
      "cell_type": "code",
      "execution_count": 11,
      "metadata": {
        "id": "P-ZZR0rmwxJa"
      },
      "outputs": [
        {
          "name": "stderr",
          "output_type": "stream",
          "text": [
            "C:\\Users\\andre\\AppData\\Local\\Temp\\ipykernel_12096\\1582609956.py:2: FutureWarning: A value is trying to be set on a copy of a DataFrame or Series through chained assignment using an inplace method.\n",
            "The behavior will change in pandas 3.0. This inplace method will never work because the intermediate object on which we are setting values always behaves as a copy.\n",
            "\n",
            "For example, when doing 'df[col].method(value, inplace=True)', try using 'df.method({col: value}, inplace=True)' or df[col] = df[col].method(value) instead, to perform the operation inplace on the original object.\n",
            "\n",
            "\n",
            "  betdataset['CashedOut'].fillna(0, inplace=True)\n"
          ]
        }
      ],
      "source": [
        "#Imputación con cero para quienes tardaron en realizar el cashout\n",
        "betdataset['CashedOut'].fillna(0, inplace=True)"
      ]
    },
    {
      "cell_type": "code",
      "execution_count": 15,
      "metadata": {
        "colab": {
          "base_uri": "https://localhost:8080/",
          "height": 423
        },
        "id": "nqkVJkNqyXHu",
        "outputId": "76d495ed-b850-4f62-dcc6-7ef12002949e"
      },
      "outputs": [
        {
          "data": {
            "text/html": [
              "<div>\n",
              "<style scoped>\n",
              "    .dataframe tbody tr th:only-of-type {\n",
              "        vertical-align: middle;\n",
              "    }\n",
              "\n",
              "    .dataframe tbody tr th {\n",
              "        vertical-align: top;\n",
              "    }\n",
              "\n",
              "    .dataframe thead th {\n",
              "        text-align: right;\n",
              "    }\n",
              "</style>\n",
              "<table border=\"1\" class=\"dataframe\">\n",
              "  <thead>\n",
              "    <tr style=\"text-align: right;\">\n",
              "      <th></th>\n",
              "      <th>Id</th>\n",
              "      <th>GameID</th>\n",
              "      <th>Username</th>\n",
              "      <th>Bet</th>\n",
              "      <th>CashedOut</th>\n",
              "      <th>Bonus</th>\n",
              "      <th>Profit</th>\n",
              "      <th>BustedAt</th>\n",
              "      <th>PlayDate</th>\n",
              "      <th>Result</th>\n",
              "    </tr>\n",
              "  </thead>\n",
              "  <tbody>\n",
              "    <tr>\n",
              "      <th>0</th>\n",
              "      <td>14196549</td>\n",
              "      <td>3366002</td>\n",
              "      <td>papai</td>\n",
              "      <td>5</td>\n",
              "      <td>1.20</td>\n",
              "      <td>0.000</td>\n",
              "      <td>1.00</td>\n",
              "      <td>8.24</td>\n",
              "      <td>2016-11-20 19:44:19+00:00</td>\n",
              "      <td>1</td>\n",
              "    </tr>\n",
              "    <tr>\n",
              "      <th>1</th>\n",
              "      <td>10676217</td>\n",
              "      <td>3343882</td>\n",
              "      <td>znay22</td>\n",
              "      <td>3</td>\n",
              "      <td>0.00</td>\n",
              "      <td>0.000</td>\n",
              "      <td>-3.00</td>\n",
              "      <td>1.40</td>\n",
              "      <td>2016-11-14 14:21:50+00:00</td>\n",
              "      <td>0</td>\n",
              "    </tr>\n",
              "    <tr>\n",
              "      <th>2</th>\n",
              "      <td>15577107</td>\n",
              "      <td>3374646</td>\n",
              "      <td>rrrrrrrr</td>\n",
              "      <td>4</td>\n",
              "      <td>1.33</td>\n",
              "      <td>0.030</td>\n",
              "      <td>1.44</td>\n",
              "      <td>3.15</td>\n",
              "      <td>2016-11-23 06:39:15+00:00</td>\n",
              "      <td>1</td>\n",
              "    </tr>\n",
              "    <tr>\n",
              "      <th>3</th>\n",
              "      <td>25732127</td>\n",
              "      <td>3429241</td>\n",
              "      <td>sanya1206</td>\n",
              "      <td>10</td>\n",
              "      <td>0.00</td>\n",
              "      <td>0.000</td>\n",
              "      <td>-10.00</td>\n",
              "      <td>1.63</td>\n",
              "      <td>2016-12-08 18:13:55+00:00</td>\n",
              "      <td>0</td>\n",
              "    </tr>\n",
              "    <tr>\n",
              "      <th>4</th>\n",
              "      <td>17995432</td>\n",
              "      <td>3389174</td>\n",
              "      <td>ADM</td>\n",
              "      <td>50</td>\n",
              "      <td>1.50</td>\n",
              "      <td>0.014</td>\n",
              "      <td>25.70</td>\n",
              "      <td>2.29</td>\n",
              "      <td>2016-11-27 08:14:48+00:00</td>\n",
              "      <td>1</td>\n",
              "    </tr>\n",
              "    <tr>\n",
              "      <th>...</th>\n",
              "      <td>...</td>\n",
              "      <td>...</td>\n",
              "      <td>...</td>\n",
              "      <td>...</td>\n",
              "      <td>...</td>\n",
              "      <td>...</td>\n",
              "      <td>...</td>\n",
              "      <td>...</td>\n",
              "      <td>...</td>\n",
              "      <td>...</td>\n",
              "    </tr>\n",
              "    <tr>\n",
              "      <th>49995</th>\n",
              "      <td>21345100</td>\n",
              "      <td>3406167</td>\n",
              "      <td>ElenaV</td>\n",
              "      <td>4</td>\n",
              "      <td>0.00</td>\n",
              "      <td>0.000</td>\n",
              "      <td>-4.00</td>\n",
              "      <td>4.80</td>\n",
              "      <td>2016-12-02 05:00:57+00:00</td>\n",
              "      <td>0</td>\n",
              "    </tr>\n",
              "    <tr>\n",
              "      <th>49996</th>\n",
              "      <td>1461408</td>\n",
              "      <td>3302415</td>\n",
              "      <td>Sandboxx</td>\n",
              "      <td>3000</td>\n",
              "      <td>1.04</td>\n",
              "      <td>0.000</td>\n",
              "      <td>120.00</td>\n",
              "      <td>5.03</td>\n",
              "      <td>2016-11-02 19:01:58+00:00</td>\n",
              "      <td>1</td>\n",
              "    </tr>\n",
              "    <tr>\n",
              "      <th>49997</th>\n",
              "      <td>19704592</td>\n",
              "      <td>3398419</td>\n",
              "      <td>Ferreck</td>\n",
              "      <td>1</td>\n",
              "      <td>0.00</td>\n",
              "      <td>0.000</td>\n",
              "      <td>-1.00</td>\n",
              "      <td>1.06</td>\n",
              "      <td>2016-11-29 23:48:11+00:00</td>\n",
              "      <td>0</td>\n",
              "    </tr>\n",
              "    <tr>\n",
              "      <th>49998</th>\n",
              "      <td>20075463</td>\n",
              "      <td>3400278</td>\n",
              "      <td>ugneri</td>\n",
              "      <td>68</td>\n",
              "      <td>1.33</td>\n",
              "      <td>0.000</td>\n",
              "      <td>22.44</td>\n",
              "      <td>19.00</td>\n",
              "      <td>2016-11-30 12:29:56+00:00</td>\n",
              "      <td>1</td>\n",
              "    </tr>\n",
              "    <tr>\n",
              "      <th>49999</th>\n",
              "      <td>14739654</td>\n",
              "      <td>3369631</td>\n",
              "      <td>ALIEN_SULACO</td>\n",
              "      <td>300</td>\n",
              "      <td>1.30</td>\n",
              "      <td>0.000</td>\n",
              "      <td>90.00</td>\n",
              "      <td>2.38</td>\n",
              "      <td>2016-11-21 20:20:47+00:00</td>\n",
              "      <td>1</td>\n",
              "    </tr>\n",
              "  </tbody>\n",
              "</table>\n",
              "<p>50000 rows × 10 columns</p>\n",
              "</div>"
            ],
            "text/plain": [
              "             Id   GameID      Username   Bet  CashedOut  Bonus  Profit  \\\n",
              "0      14196549  3366002         papai     5       1.20  0.000    1.00   \n",
              "1      10676217  3343882        znay22     3       0.00  0.000   -3.00   \n",
              "2      15577107  3374646      rrrrrrrr     4       1.33  0.030    1.44   \n",
              "3      25732127  3429241     sanya1206    10       0.00  0.000  -10.00   \n",
              "4      17995432  3389174           ADM    50       1.50  0.014   25.70   \n",
              "...         ...      ...           ...   ...        ...    ...     ...   \n",
              "49995  21345100  3406167        ElenaV     4       0.00  0.000   -4.00   \n",
              "49996   1461408  3302415      Sandboxx  3000       1.04  0.000  120.00   \n",
              "49997  19704592  3398419       Ferreck     1       0.00  0.000   -1.00   \n",
              "49998  20075463  3400278        ugneri    68       1.33  0.000   22.44   \n",
              "49999  14739654  3369631  ALIEN_SULACO   300       1.30  0.000   90.00   \n",
              "\n",
              "       BustedAt                  PlayDate  Result  \n",
              "0          8.24 2016-11-20 19:44:19+00:00       1  \n",
              "1          1.40 2016-11-14 14:21:50+00:00       0  \n",
              "2          3.15 2016-11-23 06:39:15+00:00       1  \n",
              "3          1.63 2016-12-08 18:13:55+00:00       0  \n",
              "4          2.29 2016-11-27 08:14:48+00:00       1  \n",
              "...         ...                       ...     ...  \n",
              "49995      4.80 2016-12-02 05:00:57+00:00       0  \n",
              "49996      5.03 2016-11-02 19:01:58+00:00       1  \n",
              "49997      1.06 2016-11-29 23:48:11+00:00       0  \n",
              "49998     19.00 2016-11-30 12:29:56+00:00       1  \n",
              "49999      2.38 2016-11-21 20:20:47+00:00       1  \n",
              "\n",
              "[50000 rows x 10 columns]"
            ]
          },
          "execution_count": 15,
          "metadata": {},
          "output_type": "execute_result"
        }
      ],
      "source": [
        "#betdataset['Result'] = np.where(betdataset['Profit'] > 0, 1, 0)\n",
        "#betdataset"
      ]
    },
    {
      "cell_type": "code",
      "execution_count": 12,
      "metadata": {},
      "outputs": [
        {
          "name": "stdout",
          "output_type": "stream",
          "text": [
            "<class 'pandas.core.frame.DataFrame'>\n",
            "RangeIndex: 50000 entries, 0 to 49999\n",
            "Data columns (total 9 columns):\n",
            " #   Column     Non-Null Count  Dtype              \n",
            "---  ------     --------------  -----              \n",
            " 0   Id         50000 non-null  int64              \n",
            " 1   GameID     50000 non-null  int64              \n",
            " 2   Username   50000 non-null  object             \n",
            " 3   Bet        50000 non-null  int64              \n",
            " 4   CashedOut  50000 non-null  float64            \n",
            " 5   Bonus      50000 non-null  float64            \n",
            " 6   Profit     50000 non-null  float64            \n",
            " 7   BustedAt   50000 non-null  float64            \n",
            " 8   PlayDate   50000 non-null  datetime64[ns, UTC]\n",
            "dtypes: datetime64[ns, UTC](1), float64(4), int64(3), object(1)\n",
            "memory usage: 3.4+ MB\n"
          ]
        }
      ],
      "source": [
        "betdataset.info()"
      ]
    },
    {
      "cell_type": "code",
      "execution_count": 13,
      "metadata": {},
      "outputs": [],
      "source": [
        "betdataset.to_parquet('../data/processed/preprocesamiento_betdataset.parquet')"
      ]
    }
  ],
  "metadata": {
    "colab": {
      "provenance": []
    },
    "kernelspec": {
      "display_name": "Python 3",
      "name": "python3"
    },
    "language_info": {
      "codemirror_mode": {
        "name": "ipython",
        "version": 3
      },
      "file_extension": ".py",
      "mimetype": "text/x-python",
      "name": "python",
      "nbconvert_exporter": "python",
      "pygments_lexer": "ipython3",
      "version": "3.11.1"
    }
  },
  "nbformat": 4,
  "nbformat_minor": 0
}
